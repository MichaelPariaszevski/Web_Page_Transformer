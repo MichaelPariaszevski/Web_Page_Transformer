{
 "cells": [
  {
   "cell_type": "code",
   "execution_count": 1,
   "metadata": {},
   "outputs": [],
   "source": [
    "from langchain_community.document_loaders import UnstructuredHTMLLoader"
   ]
  },
  {
   "cell_type": "code",
   "execution_count": 4,
   "metadata": {},
   "outputs": [],
   "source": [
    "file_path = \"wget_web_page/www.apple.com/index.html\" \n",
    "\n",
    "loader = UnstructuredHTMLLoader(file_path = file_path) \n",
    "\n",
    "data = loader.load()"
   ]
  },
  {
   "cell_type": "code",
   "execution_count": 5,
   "metadata": {},
   "outputs": [
    {
     "name": "stdout",
     "output_type": "stream",
     "text": [
      "[Document(metadata={'source': 'wget_web_page/www.apple.com/index.html'}, page_content=\"Apple Intelligence is here.\\n\\nExperience it now on the latest iPhone, iPad, and Mac models with a free software update.1\\n\\nMacBook Pro\\n\\nA work of smart.\\n\\nAvailable starting 11.8\\n\\nLearn more Pre-order\\n\\nHello, Apple Intelligence.\\n\\nApple Intelligence is here.\\n\\nExperience it now on the latest iPhone, iPad, and Mac models with a free software update.1\\n\\nMac mini\\n\\nSize down. Power up.\\n\\nAvailable starting 11.8\\n\\nLearn more Pre-order\\n\\nHello, Apple Intelligence.\\n\\nApple Intelligence is here.\\n\\nExperience it now on the latest iPhone, iPad, and Mac models with a free software update.1\\n\\niMac\\n\\nBrilllllliant.\\n\\nAvailable starting 11.8\\n\\nLearn more Pre-order\\n\\nHello, Apple Intelligence.\\n\\niPhone 16 Pro\\n\\nHello, Apple Intelligence.\\n\\nLearn more Buy\\n\\niPhone 16\\n\\nHello, Apple Intelligence.\\n\\nLearn more Buy\\n\\nAirPods Pro 2\\n\\nHearing Test, Hearing Aid, and Hearing Protection features in a free software update.2\\n\\nLearn more Buy\\n\\nApple Intelligence\\n\\nAI for the rest of us.\\n\\nLearn more Watch the film\\n\\nApple Trade In\\n\\nGet $180-$650 in credit when you trade in iPhone 12 or higher.3\\n\\nGet your estimate\\n\\nApple Card\\n\\nGet up to 3% Daily Cash back with every purchase.\\n\\nLearn more Apply now Apply now\\n\\nApple TV+\\n\\nFAM Gallery\\n\\nListen now\\n\\nAlpha\\n\\nWatch now\\n\\nRun Your First 5K\\n\\nPlay now\\n\\nNBA 2K25 Arcade Edition\\n\\nListen now\\n\\nToday's Indie Rock\\n\\nWatch now\\n\\nHIIT with Brian\\n\\nPlay now\\n\\nHello Kitty Island Adventure\")]\n"
     ]
    }
   ],
   "source": [
    "print(data)"
   ]
  },
  {
   "cell_type": "code",
   "execution_count": 6,
   "metadata": {},
   "outputs": [
    {
     "name": "stdout",
     "output_type": "stream",
     "text": [
      "Apple Intelligence is here.\n",
      "\n",
      "Experience it now on the latest iPhone, iPad, and Mac models with a free software update.1\n",
      "\n",
      "MacBook Pro\n",
      "\n",
      "A work of smart.\n",
      "\n",
      "Available starting 11.8\n",
      "\n",
      "Learn more Pre-order\n",
      "\n",
      "Hello, Apple Intelligence.\n",
      "\n",
      "Apple Intelligence is here.\n",
      "\n",
      "Experience it now on the latest iPhone, iPad, and Mac models with a free software update.1\n",
      "\n",
      "Mac mini\n",
      "\n",
      "Size down. Power up.\n",
      "\n",
      "Available starting 11.8\n",
      "\n",
      "Learn more Pre-order\n",
      "\n",
      "Hello, Apple Intelligence.\n",
      "\n",
      "Apple Intelligence is here.\n",
      "\n",
      "Experience it now on the latest iPhone, iPad, and Mac models with a free software update.1\n",
      "\n",
      "iMac\n",
      "\n",
      "Brilllllliant.\n",
      "\n",
      "Available starting 11.8\n",
      "\n",
      "Learn more Pre-order\n",
      "\n",
      "Hello, Apple Intelligence.\n",
      "\n",
      "iPhone 16 Pro\n",
      "\n",
      "Hello, Apple Intelligence.\n",
      "\n",
      "Learn more Buy\n",
      "\n",
      "iPhone 16\n",
      "\n",
      "Hello, Apple Intelligence.\n",
      "\n",
      "Learn more Buy\n",
      "\n",
      "AirPods Pro 2\n",
      "\n",
      "Hearing Test, Hearing Aid, and Hearing Protection features in a free software update.2\n",
      "\n",
      "Learn more Buy\n",
      "\n",
      "Apple Intelligence\n",
      "\n",
      "AI for the rest of us.\n",
      "\n",
      "Learn more Watch the film\n",
      "\n",
      "Apple Trade In\n",
      "\n",
      "Get $180-$650 in credit when you trade in iPhone 12 or higher.3\n",
      "\n",
      "Get your estimate\n",
      "\n",
      "Apple Card\n",
      "\n",
      "Get up to 3% Daily Cash back with every purchase.\n",
      "\n",
      "Learn more Apply now Apply now\n",
      "\n",
      "Apple TV+\n",
      "\n",
      "FAM Gallery\n",
      "\n",
      "Listen now\n",
      "\n",
      "Alpha\n",
      "\n",
      "Watch now\n",
      "\n",
      "Run Your First 5K\n",
      "\n",
      "Play now\n",
      "\n",
      "NBA 2K25 Arcade Edition\n",
      "\n",
      "Listen now\n",
      "\n",
      "Today's Indie Rock\n",
      "\n",
      "Watch now\n",
      "\n",
      "HIIT with Brian\n",
      "\n",
      "Play now\n",
      "\n",
      "Hello Kitty Island Adventure\n"
     ]
    }
   ],
   "source": [
    "print(data[0].page_content)"
   ]
  }
 ],
 "metadata": {
  "kernelspec": {
   "display_name": "Web_Page_Transformer",
   "language": "python",
   "name": "python3"
  },
  "language_info": {
   "codemirror_mode": {
    "name": "ipython",
    "version": 3
   },
   "file_extension": ".py",
   "mimetype": "text/x-python",
   "name": "python",
   "nbconvert_exporter": "python",
   "pygments_lexer": "ipython3",
   "version": "3.11.9"
  }
 },
 "nbformat": 4,
 "nbformat_minor": 2
}
