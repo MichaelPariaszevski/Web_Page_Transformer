{
 "cells": [
  {
   "cell_type": "code",
   "execution_count": 7,
   "metadata": {},
   "outputs": [],
   "source": [
    "import webbrowser"
   ]
  },
  {
   "cell_type": "code",
   "execution_count": null,
   "metadata": {},
   "outputs": [],
   "source": [
    "webbrowser.open(url = \"www.apple_new.com.html\")"
   ]
  },
  {
   "cell_type": "code",
   "execution_count": 8,
   "metadata": {},
   "outputs": [],
   "source": [
    "import subprocess\n",
    "\n",
    "def subprocess_run(url: str, output_dir: str): # output_dir must end in .html \n",
    "    command = [\"monolith\", url, \"-o\", output_dir]\n",
    "    subprocess.run(command)\n",
    "    return output_dir"
   ]
  },
  {
   "cell_type": "code",
   "execution_count": null,
   "metadata": {},
   "outputs": [],
   "source": [
    "example_output_dir = subprocess_run(url = \"https://www.ebay.com/itm/226425213573?_trkparms=amclksrc%3DITM%26aid%3D777008%26algo%3DPERSONAL.TOPIC%26ao%3D1%26asc%3D20240603120050%26meid%3Db0b16448a9414722a9fd3fcf27b9e0a5%26pid%3D102175%26rk%3D1%26rkt%3D1%26itm%3D226425213573%26pmt%3D0%26noa%3D1%26pg%3D4375194%26algv%3DNoSignalMostSearched%26brand%3DNike&_trksid=p4375194.c102175.m166538&_trkparms=parentrq%3Aeddc76a81920ab15b2f81a16ffff3d34%7Cpageci%3A876a2626-993d-11ef-baad-4693fff0174d%7Ciid%3A1%7Cvlpname%3Avlp_homepage\", output_dir = \"www.jstor_specific.com.html\")"
   ]
  },
  {
   "cell_type": "code",
   "execution_count": null,
   "metadata": {},
   "outputs": [],
   "source": [
    "webbrowser.open(url = \"www.jstor_specific.com.html\")"
   ]
  },
  {
   "cell_type": "code",
   "execution_count": null,
   "metadata": {},
   "outputs": [],
   "source": [
    "webbrowser.open(\"jstor_chromium.html\")"
   ]
  },
  {
   "cell_type": "code",
   "execution_count": 9,
   "metadata": {},
   "outputs": [],
   "source": [
    "import warnings\n",
    "\n",
    "def monolith_download_simple(url: str, output_dir: str): \n",
    "    command = [\"chromium\", \"--headless\", \"--window-size=1920,1080\", \"--run-all-compositor-stages-before-draw\", \"--virtual-time-budget=9000\", \"--incognito\", \"--dump-dom\", url, \"|\", \"monolith\", url, \"-o\", output_dir]\n",
    "    with warnings.catch_warnings(): \n",
    "        warnings.simplefilter(\"ignore\")\n",
    "        subprocess.run(command) \n",
    "    return output_dir"
   ]
  },
  {
   "cell_type": "code",
   "execution_count": null,
   "metadata": {},
   "outputs": [],
   "source": [
    "monolith_download_simple(url = \"https://github.com\", output_dir = \"github_enterprise.html\")"
   ]
  },
  {
   "cell_type": "code",
   "execution_count": 10,
   "metadata": {},
   "outputs": [],
   "source": [
    "import os\n",
    "\n",
    "def monolith_download(url: str, output_dir: str): \n",
    "    command = [\"chromium\", \"--headless\", \"--window-size=1920,1080\", \"--run-all-compositor-stages-before-draw\", \"--virtual-time-budget=9000\", \"--incognito\", \"--dump-dom\", url, \"|\", \"monolith\", url, \"-o\", output_dir]\n",
    "    env = os.environ.copy()\n",
    "    env[\"DBUS_SESSION_BUS_ADDRESS\"] = \"\"\n",
    "    with warnings.catch_warnings(): \n",
    "        warnings.simplefilter(\"ignore\")\n",
    "        subprocess.run(command, env=env) \n",
    "    return output_dir"
   ]
  },
  {
   "cell_type": "code",
   "execution_count": 12,
   "metadata": {},
   "outputs": [],
   "source": [
    "def monolith_download_new(url: str, output_dir: str): \n",
    "    command = [\"chromium\", \"--headless\", \"--window-size=1920,1080\", \"--run-all-compositor-stages-before-draw\", \"--virtual-time-budget=9000\", \"--incognito\", \"--dump-dom\", url, \"|\", \"monolith\", \"-\", \"-b\", url, \"-o\", output_dir]\n",
    "    env = os.environ.copy()\n",
    "    env[\"DBUS_SESSION_BUS_ADDRESS\"] = \"\"\n",
    "    with warnings.catch_warnings(): \n",
    "        warnings.simplefilter(\"ignore\")\n",
    "        subprocess.run(\" \".join(command), capture_output=True, text=True, env=env, shell=True)\n",
    "    return output_dir"
   ]
  },
  {
   "cell_type": "code",
   "execution_count": 1,
   "metadata": {},
   "outputs": [],
   "source": [
    "def monolith_download_new_2(url: str, output_dir: str): # does not display certain visual elements such as windows and animations when using \"-I\" or \"-k\"; use \"-b <url> -n\" instead\n",
    "    command = [\"chromium\", \"--headless\", \"--window-size=1920,1080\", \"--run-all-compositor-stages-before-draw\", \"--virtual-time-budget=9000\", \"--incognito\", \"--dump-dom\", url, \"|\", \"monolith\", \"-\", \"-b\", url, \"-n\", \"-o\", output_dir]\n",
    "    env = os.environ.copy()\n",
    "    env[\"DBUS_SESSION_BUS_ADDRESS\"] = \"\"\n",
    "    with warnings.catch_warnings(): \n",
    "        warnings.simplefilter(\"ignore\")\n",
    "        subprocess.run(\" \".join(command), capture_output=True, text=True, env=env, shell=True)\n",
    "    return output_dir"
   ]
  },
  {
   "cell_type": "code",
   "execution_count": null,
   "metadata": {},
   "outputs": [],
   "source": [
    "monolith_download_new(url = \"https://github.com\", output_dir = \"github_enterprise_2.html\")"
   ]
  },
  {
   "cell_type": "code",
   "execution_count": null,
   "metadata": {},
   "outputs": [],
   "source": [
    "webbrowser.open(\"github_enterprise_2.html\")"
   ]
  },
  {
   "cell_type": "code",
   "execution_count": null,
   "metadata": {},
   "outputs": [],
   "source": [
    "monolith_download_new(url = \"https://github.com\", output_dir = \"github_3.html\") "
   ]
  },
  {
   "cell_type": "code",
   "execution_count": 4,
   "metadata": {},
   "outputs": [
    {
     "data": {
      "text/plain": [
       "'github_new_2.html'"
      ]
     },
     "execution_count": 4,
     "metadata": {},
     "output_type": "execute_result"
    }
   ],
   "source": [
    "import os \n",
    "import subprocess \n",
    "import webbrowser \n",
    "import warnings\n",
    "\n",
    "monolith_download_new_2(url = \"https://github.com\", output_dir = \"github_new_2.html\") \n",
    "\n",
    "# webbrowser.open(\"github_new_2.html\")"
   ]
  }
 ],
 "metadata": {
  "kernelspec": {
   "display_name": "Web_Page_Transformer",
   "language": "python",
   "name": "python3"
  },
  "language_info": {
   "codemirror_mode": {
    "name": "ipython",
    "version": 3
   },
   "file_extension": ".py",
   "mimetype": "text/x-python",
   "name": "python",
   "nbconvert_exporter": "python",
   "pygments_lexer": "ipython3",
   "version": "3.11.9"
  }
 },
 "nbformat": 4,
 "nbformat_minor": 2
}
